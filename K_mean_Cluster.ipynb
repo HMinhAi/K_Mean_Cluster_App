{
 "cells": [
  {
   "cell_type": "code",
   "execution_count": 44,
   "id": "d50398b8",
   "metadata": {},
   "outputs": [],
   "source": [
    "import matplotlib.pyplot as plt\n",
    "import numpy as np\n",
    "import matplotlib.animation as animation\n",
    "from IPython.display import display, HTML\n",
    "import random\n",
    "import base64\n",
    "\n",
    "point_list = np.array([[2, 10], [4, 5], [3, 2], [9, 4], [3, 7], [5, 5], [6, 4], [1, 9], [1, 2], [4, 9]])\n",
    "\n",
    "def random_centroid(num_centroid=2, x_max=10, y_max=10):\n",
    "    centroids = []\n",
    "    for _ in range(num_centroid):\n",
    "        centroids.append([random.uniform(0, x_max), random.uniform(0, y_max)])\n",
    "    return np.array(centroids)\n",
    "\n",
    "def euclidean_distance(a, b):\n",
    "    return np.sqrt(np.sum((a - b) ** 2, axis=1))\n",
    "\n",
    "def assign_clusters(points, centroids):\n",
    "    clusters = []\n",
    "    for point in points:\n",
    "        distances = euclidean_distance(point, centroids)\n",
    "        cluster = np.argmin(distances)\n",
    "        clusters.append(cluster)\n",
    "    return np.array(clusters)\n",
    "\n",
    "def update_centroids(points, clusters, num_centroids):\n",
    "    new_centroids = []\n",
    "    for i in range(num_centroids):\n",
    "        cluster_points = points[clusters == i]\n",
    "        if len(cluster_points) > 0:\n",
    "            new_centroids.append(cluster_points.mean(axis=0))\n",
    "        else:\n",
    "            new_centroids.append([0, 0])  \n",
    "    return np.array(new_centroids)\n",
    "\n",
    "k = 3\n",
    "centroids = random_centroid(k)"
   ]
  },
  {
   "cell_type": "code",
   "execution_count": null,
   "id": "7cbfef07",
   "metadata": {},
   "outputs": [],
   "source": [
    "frames = []\n",
    "\n",
    "for _ in range(5): \n",
    "    clusters = assign_clusters(point_list, centroids)\n",
    "    frames.append((point_list.copy(), centroids.copy(), clusters.copy()))\n",
    "    centroids = update_centroids(point_list, clusters, k)\n",
    "\n",
    "fig, ax = plt.subplots()\n",
    "ax.set_xlim(0, 12)\n",
    "ax.set_ylim(0, 12)\n",
    "\n",
    "scat_points = ax.scatter([], [], c=[], cmap='viridis', s=100)\n",
    "scat_centroids = ax.scatter([], [], c='red', marker='x', s=200)\n",
    "\n",
    "def init():\n",
    "    scat_points.set_offsets(np.empty((0, 2)))\n",
    "    scat_points.set_array([])\n",
    "    scat_centroids.set_offsets(np.empty((0, 2)))\n",
    "    return scat_points, scat_centroids\n",
    "\n",
    "def update(frame):\n",
    "    points, centroids, clusters = frame\n",
    "    scat_points.set_offsets(points)\n",
    "    scat_points.set_array(clusters)\n",
    "    scat_centroids.set_offsets(centroids)\n",
    "    return scat_points, scat_centroids\n",
    "\n",
    "ani = animation.FuncAnimation(fig, update, frames=frames, init_func=init, blit=True, interval=1000)"
   ]
  },
  {
   "cell_type": "code",
   "execution_count": 47,
   "id": "da61395f",
   "metadata": {},
   "outputs": [
    {
     "data": {
      "text/html": [
       "<img src=\"data:image/gif;base64,R0lGODlhgALgAYcAAP/////+/v7+/v3+/v7+/f39/fz9/fv9/f7+/P7++/799fz8/Pr6+vn5+fj4+Pf7+vb6+vX6+vP5+ff39/f29/X09fPz8/Ly8vTx9fHx8e729uv19efz8vHt8v796/784/773/773v761f750P75yf73vP73uv72r/70nv3ykP3yif3xhP3wf/3wefDw8O/v7+3t7evq6+rp6+fn59zu7dLp6NDo5/3ub/3tX/3tXv3sVP3qRP3pOP3oMf3nLP3nKf3nKP3nJ/3nJv3nJf/i4ujm6eXl5eTk5OPj4+Li4ujg6uHh4d/f397e3t3d3ebV3tzc3Nvb29ra2tnZ2djY2NbW1tTU1NPT0//Jyf/FxdPR1NfJ29HR0dDQ0M/Pz8Xi4b7f3bnc26/X1s3NzcrKysnJycjIyMbGxsXFxcHBwcW/xr+/v7u7u8O4xsi0zba2trS0tLGxsa+vr6nU0qjT0aTS0KDQzZjMyZHJxoXCv4HBvn6+u3y+u3e7uHC4tWq1sWSyrq6urqurq6ioqLykwqenp6SkpLCdtaCgoJ+fn7KWuJqampmZmZWVlZOTk22koVOpplCopEymokmloUajn0GgnDqdmDeclzGZlCyWkiuWkSmVkCWTjiSSjiSSjSOSjSKRjCGRjJqKnoyMjImJiYeHh4aGhoWFhYODg39/f4p7jpNsnI1kl4NXjf8yMv8iInt7e3l5eXd3d3Z2dnV1dXBwcG9vb21tbWtra2lpaWVlZWFhYV9fX15eXlxcXFpaWldXV1VVVVJSUk9PT05OTmNLaUxMTEtLS0dHR0NDQz8/P2s2d2UucmAnbT4+Pjw8PDo6Ojg4ODY2NjQ0NDIyMjAwMC4uLiwsLCkpKSYmJiIiIpYfS1IUYUwLW0cGV0cFV0cFVkYFVkYEVkYDVkUDVUUCVUQCVEQBVCEhIR8fHx4eHhwcHBsbGxoaGhkZGRgYGBYWFhUVFRQUFBISEhAQEA4ODgoKCggICAcHBwYGBgQEBAMDAwEBAf8AAPEAAAAAACH/C05FVFNDQVBFMi4wAwEAAAAh+QQAZAAAACwAAAAAgALgAQAI/wABCBxIsKDBgwgTKlzIsKHDhxAjSpxIsaLFixgzatzIsaPHjyBDihxJsqTJkyhTqlzJsqXLlzBjypxJs6bNmzhz6tzJs6fPn0CDCh1KtKjRo0iTKl3KtKnTp1CjSp1KtarVq1izat3KtavXr2DDih1LtqzZs2jTql3Ltq3bt3Djyp1Lt67du3jz6t3Lt6/fv4ADCx5MuLDhw4gTK17MuLHjx5AjS55MubLly5gza97MubPnz6BDix5NurTp06hTq17NurXr17Bjy55Nu7bt27hz697Nu7fv38CDCx9OvLjx48iTK1/OvLnz59CjS59Ovbr169iza9/Ovbv37+DDi/8fT768+fPo06tfz769+/fw48ufT7++/fv48+vfz7+///8ABijggASylIYx7vwjh0AMzHKNPe74YkSBFJ71BiyBKCiQC8kMQoUZ0lBT4YhmaWgQGf8sQeKKYZlYEBv8ZMDijF25ONAE1PxykAMZ9PiCEy70KOSQRBZp5JFIJqnkkkw26eSTUEYp5ZRUVmnllVhmqeWWXHbJpQtIFHCXjQAwQAw1MhqUyj9stunmm3DGKeecdNZp55145qnnnnz26eefgAYq6KCEFmrooYgm+iYSYy44EAPDWAMDQjz2mMQ/SHip6aacdurpp6CGKuqopJa6JBL/uNDoo8NcE0NDGfz/kyaN3sU6a1wWeOHFP6N4sYSZ63Qxw7ANKGQrrd8dO9cab/LCBJxrGCsrsrVOy5iy1G6HrWLbZotdt4iB62114hpW7rjSnUuYuug+x65g77bLXLyA0Stvcvb6le+9xu3Ll7/8DgewXgMHDFzBeCFscG8K29Xwwro9TJfEEN9GsVwXV0xbxnBxrHFsHrsV8seujcyWySSvhrJaK6eMWstowexyaTKbVfPMot1Mls44f8azWD/3zFnQYBEtdGZGe5X00ZYtzZXTTE8GtVZTRw1Z1VhhbXVjWlvV9dbcWrvY12CHK3bYt5bNG9lTsa32umcn5vbb8MZtdtp04zY3VHvn/62v3Yf17fe/gJtb+OCyCd6U4ognfDjceDee+OODMS55XZYrlfnlGFNed+Scl+x5YJuH/lbpR6Fu+smj19v66qSpXpTssMf8+t+g1/7y7X3RrntZvgsV/O9A80547kXJQIgiimwhAPFZDQ9U8Fu0Is455ZxzDjOKLAC918bv5bsi5YCj/fnknNMKBd9TJf1PtBNy/vzotyJm+1G9X9KBCToKgACpeMc9kiGFhciuAt2gnwLP4Qb85S98YblQhvxHinrEgQvEQMcEpIW8nyhigfQTxzIcyDcIjsVEAnjHKDaEj0JwMCnLSB8I56cEEjpFfycxkRP+4YWBOOMWBqlUBv9Q1UGfJHCG82ugDZmCQ5OYCA3/mMFAggEMNb2piD05IhK1p8Qlas6EYnliFKdYxYIIkYhJ4cYWz7cFLy6liSXRIQ99CMSEyG4V19siN7znxqTAkSQoVKFAMtDCFyLlCWskhyj6+EUsniVXu+qVikhBjzhcYRgaNCRSWjGOGYqDGx1gpB/B6BVmuYkX/0sFPPCRjCkYkJQzocAyOqlAcXSjjaJEyh9z4jsKsAIcMjzHN86xjCfkcpSO/MvwYiCKZTRjGazA5TF1CUvMVXMsAYhINqcJq2vOZZcmwYIriPAQIrgCC9xkCDhvss6RBMAV/XgFORlChFf0wxXbTCdC2ln/E36KpJ7xnGdCACpPfWoSbXwhqEANolCDHlRu3hRLQxlqz4I61I4RjYs/STLRgXT0ogfZqExEOpKOfhSkBiEpTFT6z4qS86QoLQhLXTLTkBA0Cy6N6UPvJhiA9iOgOt1p4DJqliz8tB9ZCKpQDZfMufgUqEoNKVFPN1WJVhSnUI0qQWrKEq56pKEwVapXVbIyCdSBD33QAxgGQBWT5nQiGFAEK1ixCjfcD39jTYnJNMCHTYCCE57gRCgsUYfnQeWkYVVIB1bRDXN4IxzDbIYiDPu9vKJkZByohCdCwdnOcrYPbHVKWBN7EBk0I48KZMVdiWfZk4TsAZTYrGdniwfR/771IKQlCAWYEQ4kLrKyVW1LyOgw2+KGghMbYEpuAbBcAHxwi9+YFPRaaxKPCYASoDCuZz9xh6W8M6sKASg+FSIAZgQThIoEblN7N1UaaLe4lWCKOBe6EHOiUyGIXOM5mqFerk0VDO+d7Saakk+HFBghbtDvObrR32v9N8CeHfBaEqxfBk83uKxbr0PcC2HOxnct+V0jfy+sYfFNVQCTyG6AucuW8p53geklsX9L3BDiQhi5bXkuEr8RShk7mMYMga1stVvbtuzWfDP8rY/HFtzMDnm2oH2LaVFLP9W2j7ol2ese/ApYwRKWsm5ZbGO9AQ5v7HeyeMXwWsp61rSutf8ucV0FXe1KQiyTxM5azbKaWbbnPPMZyI4DtJ/vgmeRFHrQIDl0ovuMaJsx+iyKbjRHIu0RSks6I5ae9KMvHZZMb8TTnKYIqDG96VArrdQ7Q7WptzJqjLR61Q55tUVkDetXCtphqi7IgRmy61rzMtedBrZA5lvOc/q6J7QWtbC/a9H62nO8x9ZJsiditOU2N9ovmbZEkkbaa2ObpsJ2ygJggY57aAMVYE5puAUy2tt+GyfaPoU84MAEQdTDEUtVCWLd/W52rpspx9jFQIThi3zr+7be7ndL4p0OV3YBHoYw+MGBmnCFd/XfSymALPihD36YYkdCQiNNbspvi9tE24X/WEchrmCIeSDCim669Vft+dNmmxzeGFfKOhoxEFRkI4ghzzlBjPrTpN5c2kJHyjx4LhBT/ByjMu/IU21+9H4m/Si8YAe9AyGPWUh84q/AKtWrPtKrG+UCtlCHuWFRLKiPPKcVJ7ueo/7NnLsVvHLPttnBR/eL7Bvveb943zX673YDPvB63XtVuF1yjzYe8dVVvPvCbe3HQ34k2o4I0ZhNX4SIt9eXN7Tk2xZuYjvEvqFP/OA7tm7QJ8T1qV/06qk6+9gzcfRSyfy3df8Q3kfb992sve0bOePhpwX46sS98QVf/OU7WvgZdv7zmy/9sSDf1nk5wAH6ff2vq4UGecAE/2cxkQcaYLv7bp/LAfYAiid7AhR72L6v0b9P5dtkAH9QcXFB8YfQwpr+UgV9UXEHHdZdtQaA6iaAT2EAl9Bhl2AAB2h/T5FpYdBhnBUGEaiAxyeBM6EHgnVjepCB1PcWffBk2uUJfSCCPyYXfPCBAcYJe6CCTKaBTTEHFhgKcyCDCBUXEaAJHZYJEKCDEEWDTZEHn7BieTB/HLg4SygTEjAJJthZnjAJEqCERDh9c6EBkBAKR9hZRwgJGnBsCChTTTgTBxAGW9hZkBAG8meFI0gXHGADNsAB7zaGW1WG1RcSdjgQe4hofQgAf+hnfxiIeTaIeJiHH2GIV4iISLeIqf/miIzob5BYPJMYiTShiJb4FZiYiV2xiZzIaodITZX4iXo3ipoYiqRYEZ6Yilexiqy4eKhoFISoVa74iqRniqeGi7boWrFYE0fgC/NwD9dABt63i8jEFzCQDrtQBk3ABlBQjMaYOr04E7LwDL03jdEIjW2BDbUQDPFQDYsAcj0ictn4QLq4FPiAD7EwBoxwDy9XEGsSc+WYe9gYE/kADQNxC9EAdONYj/NIhueoFOqgCwPRCO2gjf84Pf74Er9gjQJRC/iYfgnJhAGZFGSgD6cQBYZgDxEnkRP5Rgv5EnBwDfiADeGIkB/JE7WYkrIYkj4xi1G1kixJFDI5k8Ljksj/hpPzWJM2qZAVGT06WY482ZMvGZSNSJTS+JNZY5TROJRIuRNO+ZS/ppStyJTGGJVSKYlvmJVFSZV8x5U36ZWwKJZgWX9keYugIQA2QAd2IAZ0OBIcIAZ2QAc2kG78gpWQYQBzMAmclV2f8Ac2ABI28AdHqGKTMAcQaDB46RgPAAihoH+c9X514BF10H6zlV2A8ACKaZVauRkDAAhdqF1iwBFisGKA4H/yspiMUYEQBoQa0YMdhoF3yZknR5tEAQlRWFw5mBE2FmCeAAgBo5qKwQEWCAqSoBGSAJnv9ZapaZuX6JxB8QU3mAkakQk3+AWzeZb0qJ1fAWAWKGEYsQk3/wgG2bmVlWEDN3gJGtGAFhiY9yKcicGAHeYJSZgReZCbs/WA5bmCm3EHofle5pcRHLZiBvie0Fl23PkVG4AJ/zlbf8kRhPlen4AJYbifM9gZNqAJufkJkRCEGwEBkdCgkakJ7mmhO8gZNBAJoTBkn4CCmtkRD1CCodkJoRAJARqcBxoTMPkQNdAHkkAJkIAHyRUSG4AHkEAJktAHNVAx8FmWC5ejKwWlmdikTroSVFqlqmeeWFqbCTqBUmqJV7qlkdelN/SlkRimYnpnZsp8aTqVWtqmOrqmViqneYimcCp7b3qn4EamFKmnXJqn6RECKdACLZACIWAXgkqohhpogP9qHiOQA0MABD/wA0AwBDkwAnLxqJE6qZV6qbjGp7cHqq5hAj8QBENwqqgaBD9QAnBBqqaKqqeqqqw6MXSape4xAj8gBLAKq0LwA5jaFriqq7t6qr36q50jqj1RCv9gCyjZHTnwqsMaqzjgFs8arak6rXWHrDtBBuhgDczqkeoRAtY6rCDAFuI6rrBarsfqFxaQDWygDN9qlu6RApWKrpGaAmxBr/Z6r9nqF71QCwAAr/w4RLWaGC3wA/v6Ay3AFgebsAu7rnxRCNewQQILj1fkHg1rrwrLsAirsQ9LeNp6E0kAD1wgEBVLEGdUsIihr/YKBPi6FiyLri7br3shB///sA84+w/8sA98lIDuca77qq5qAbT2KrSsF7I2cQFXsLRXMA2+cAXgqh7VOq5BgK1sMbXWWrW0irQ6cbIB+B7Baq3F6hZhG61jS7N/4bU++x4lUKrDKqtw0bbQmqqrak1cOzsqqxgjgAObSqlDgAPG+hZ727eVCrif2qjnAQKDWqhGKxeKq6iNi7Yn6qcIiriUy4t3S5N5a3x2erka0bme62qbq6aZO5OgG7qzNrqYp7qxd7qoq2ylG5avW4qWO7t4yp+2O6exGxQ7GlSum7vXuLs+Cby6W7vE+2msq4fJG3q/e7zYh7vOO3fGG70X0bzU+7XQe73KK7zws7yXZ73a/3uH3NuV4bu645uT57uT3ltp64t44Fu+gNi+mpa+Qim/yEu/2fi+5au/4cu/2uu/1wvA1CvA0UvAzmvAx4vAxKvAwMvAuevAtgvBsyvBr0vBqAvAApAAUZEAGlyH9vu5aqYAJ7ADpuoDN0ACdkkUIKACPHCqPKACkbtq72sCPTAEwhqpQ7ADH3AUCcACQlCvpwoEQsACHSyEPAUSJyAENwyrQMADO0wUBHADS8yrN0AAbsgXpjAN9RAPw0AFzdoQIJCr4woEOpDCPYEC+4oCV7wXyJAIVtAFx6AOFRC1GrECQDyugfsTCNDC9soDCGDEexED/5AGdIwRClDDLXsDQ/9hAvt6qrMqwx/cEFHwD1Arrx5BAo08BDwwFCvQsej6AysAyHlRAMcQkSgbdLNXApnsA0PRAndsrUDwsabme7mQDoxisfJ4yZncA0PBAp48rj/AAqJ8F7iwDk0gjgQ7ex7wy7BstUBxApl8AsNMFwKAC+1QQM/rETfwytH6yEBxyPvaAwowzXORC/WQBsMyA+xjyR4xAvYaBH5MFCswt28byuQsF3CSCIWcESlAtT6Qx9+sA9wcxDowzvdMOsElAP38ykLQAyRwFB6gA0Mwt6aqAx4ghpEsugIoAizgA6jKAyhw0UiRACYAqaiaAyZQxAftOhqoACIwAiHwx03xASP/MAJPfH4ZXb05fXMWHLo97bk/fblBTblD7adFradHfadJDadL3aZNnaZPLaZRvaVTjaVVXaVX7aRZXZZbDZZdzZVfnZVhLZVj/ZRljZRnTZRp3ZNrbZNtbbo7rYpxbXFvzZJ1nZJ3/ZF5PZF7nZB9/Y9/rb7466bwe7sXWtiJONfUptjcx9ia59i7B9nBi9iJPdg4Z9m7GNj1i9l/ehuwdxCfbaCcbXWj7RWm1xCoRzKajU3wNHa49WyhjS6rPRaVd3ibWdoz0bsl0W2Wh6O4Xbm4YXiuDTGzXRZ/N9zEDdmNkA74IA1l8MWncXfIndy/HRKDkA+JUAW6QA8ysM+z/wFWvU3dfSENuCAQBdAOpeDd331V4S3ee9EA++A/vUAMZiQkl5IpppLf+r3fRvIEr+APAP4KT8DfBF7gBn7g+o0qqrIXRvAPZzAQtCANuKwoFF7hFn7hGJ7hGr7hHN7hHv7hb+IEfNHgDy4QEV7fPbIE/5AECK4lqILfLW4lLx7jWDLjNC7jmHLjVWLjOj4ll/ICfAHf8k3f7NynZTq++vM+Se7Y0lBHBcAO6V3koeqlSO6SSm7ljj0I+IAI2k0PUiTlIMm9S17lYo7l1R0SjqAO+SANZqAQDpAKDgAVbx7nTjHncg7nd07nTWHnT8HnlP3ngB7ogj7ohM4Uy93cz/+9FFm8xV0cFcoar0rxi8E4jEsxbuV2bmYMFPzjIgAkQARUFJvuKA3yIBEyIYVx3dm93d2tFG38xnE8x07Brd7KFMm4jM34jEohb/Rmb/h2FBLkIhV0QRm0QUPx647CIR4CIiJSGORt3uj9FIJMyE3Rru8K6UhRjVARcANXcEoRSCsEAC5QSEZBJgKBIioyGEI+EPP9FJNcyUzxrwFr7UfBjd4IjkxxCg0HAA/XkUkhRz0kED90FOQOADBy5iZB4hAu4U1Byqa8FBJLsfJuFOm4ju34jkmhcRzncUwhRl8OAFQk8P5zIzlSGAhv4grPFLV8y0sxsiUb70xxj/m4j0r/kXIr13IWjxQcT0YgXxBmgiaFke4Cse5MUczH3BQ2i7P7oLM8K5AEKRAGuRQ713NP1++OskP/DgABP+4hDymSchhNbt5QvhTVfM1PobRM67TujhQNORAQuRRLNxBOtxTePkjiXhQuAimughhazuXb3fFIYc7oPCzr/BRqexQXmZEbye9IkXVb13VIAUm84isAQEmWhEnELhSQL0nAIizEYhhpvuZtLvdvos9QUfhHMZIleZJKgXZqpw1shxSm1CaoBECr1EpFEfts4izQUui83/u+//vAH/zCP/zEX/zGf/zIn/zKv/zM3/zO//zQH/3SP/3UX/3Wf/3Yn/3av/3cDt/93v/94B/+4j/+rxsQACH5BAFkAL4ALDYANQASAosBh//////+/v7+/v7+/f3+/v39/fz9/fv9/f7+/P7++/7++f7+9v799Pz8/Pr6+vn5+fj4+Pb6+vf39/j2+Pb29vX09vPz8/Ly8vTx9fHx8er09PLt8/797P785v774f773/773v761v760f750P75zf74xf73vv73vP73u/73tf71qv70nv3ykf3ykP3yif3xhP3wfv3wefDw8O7u7u7p8Orq6unp6ejo6Ofn59zt7dDo5/3vcv3uav3tYP3tX/3tXv3sWP3rUv3rTf3pQP3oOP3oMv3oL/3nK/3nKf3nKP3nJ/3nJv3nJf/i4uvl7ebm5uXl5ePj4+Li4uLh4t/f3+DV4//Jyf/Fxd7e3t3d3dvb29ra2sXi4dfX19XV1dPT09LS0tHR0dDQ0M/Pz9jL2M3NzcrKytXG2MnJycjIyMbGxsXFxcHBwcDAwL+/v8u5z8m1zbba2bu7u7e3t7S0tLGxsa+vr66urqjU0p/PzZy4t6ioqKenp4PBvn6+u3O6tmCwrVCopLqhwLWbvKSkpKKioqCgoJ+fn5ubm7KXubKWuKCXo5aWlpSUlJKSko6OjoyMjKeHroiIiIeHh4aGhoWFhYODg599p39/f5RunpFpmkafmn19fXx8fHt7ezabli6XkieUjySSjSOSjSKRjHh4eHZ2dnV1dXBwcG9vb25ubmxsbGtra2BsayGRjCGQi/8yMv8iIo5mmItilXZhe2NjY2BgYF9fX15eXl1dXVtbW1dXV1VVVVNTU19QY09PT05OTkxMTEtLS0pKSm05eUZGRmUucmEpb14lbLUeNVogaVQWYkwMW0oJWUcGV0cFV0cFVkYFVkYEVkYDVkUDVUQCVEQBVENDQz8/Pz4+Pjw8PDk5OTg4ODY2NjQ0NDIyMjAwMC4uLiwsLCoqKigoKCUlJSIiIiEhISAgIB8fHx4eHhwcHBsbGxoaGhkZGRgYGBYWFhUVFRQUFBISEhAQEA8PDwwMDAoKCggICAcHBwYGBgQEBAMDAwEBAf8AAAAAAAj/AH0JHEhQYK6CCBMqXMiwocOHECNKnEixosWLGDNq3Mixo8ePIEOGnLOwi8iTKFOqXMmypcuXMGPKbDllps2bOHPq3Mmzp8+fQIMKHUq0qNGjInU1nIG0qdOnUKNKtRlsqtWrWLNq3eqQKdevYMOKHRtzXA2yaNOqXct24CNfNdvKnUu3rt27ePPq3cu3r9+/gAMLHky4sOHDiBMrXsy4sePHkCNLnky5suXLmDNr3sy5s+fPoEOLHk26tOnTqFOrXs26tevXsGPLnk27tu3buHPr3s27t+/fwIMLH068uPHjyJMrX868ufPn0KNLn069uvXr2LNr3869u/fv4MOL/x9Pvrz58+jTq1/Pvr379/Djy59Pv779+/jz69/Pv7///wAGKOCABBZo4IEIJqjgggw2WJ8TgvgyCBkOVujRGbMIRM1Ag1jo4UWJbJgQLRN8aCJEETJEy4nCcSJXBcw4BAeLt5GEkCT1yNWhQ8TQ6CNBxkDkxI/BqZJWjA+9QeRuT8jVDEQzLplbk20tAxGFUvZmJFqZPKRMlixW8VAkYM72Vk2SCARGWxkytAwNZd7mokBbrDVBjwoxg6VGAUzUZ5znTdBmQcSIuZEVsDQRUROwWAEoejREQswxxsyyJ5+w+BOLog41EYs/sPz56IGeasppQQAMVOqmC6U66n+rnv8qEAC0+hJrq7W+6t+ts9Ka6qesKuRrrrryx6svtCpqKq6+FgsrsLI+NKyrzu4Kra2f2kosQdNWG+CqVwCLbLPcDuutgKX6s2y3vZJ7boBXqOvPFQN1y+67AKa7bLvTUouvtZqGu++49/7b363HFmzwfsfe2q+/C+N3rECrEqxwxPRNrGq2TdR6McajYaCIJrNkAkcBUmns0McRkWwyyIttoEkz1TgTzTPWKKMIVCrXC4CywVoMsUMyP0nQlzAf5gQy0ljj9NNOy4IyUgFkGjRC5n4aqs/uOrT0QrIkTdgExkQD9dnWXOIUotGW2yyjjrq97UIlNqS22IENgjbaz8D/2ZSoWJsrEOBcz53Qjg35jbdfxlCzN9TUkIkVy6gKnpHki/NVxeNoI6NV1w2BjpChDnmeOV9vcH42klkNHbpDSj7E+ul5pa7607P/FbtDudNu1+a3O216YKQ3NLzveDV+e+SSYY78XXrf3jdhiDOk+PN2kQ2N6ncPVjdD3WN/19JN7y21YV8rFLb4ehVdMzTO5JxIYkUXpMz87POFQSIuvzH1Yvwr2e7yR8ACGvCACEygAhfIwAY68IEQjKAEJ0jBClrwghjMoHtcxxAOarA5omPWB6VDObl5cITIKaHQUEhCywUuhCxETCfQ4ZSPqTCGh7mDPRxxFIXdEIeDqcVA/3qhlB5a7odAHEydoGIvFyZxMaWYysMM98TFgKEQUXlYFR/TCIKQg4lO3KJiGEGQcjxFi2KkzhRPmMYUmguJbQzOveAYx974MIx1HI4N8ZjH31COjn2cjQoBGcjX/JCQhWwNDBOyyETeho1Yc6QkJ0nJSlrykpjMpCY3yclOevKToDxdDvrwCYF8og85CKUq0/gHhrRylbPJg0NkCcvYlLIht6yla+IAEV7qsjV9EIVDRNGHX7bmlQ5BpjFT4wdhNsSZy1QNHiAyzWimJgKgcEg2ramaYjbEm9xETQQCgZBXDCQQEXAI4cKJGQ2QcyCtSIYwA6GBTjWKnZ2JAyB88f+KZGiKDQ8p1dbwyZl6juFaDOkZQTOjUGwNbKGe6VlDIcpQhG7soRT9TMMsmtHQIIyjHfUosAR2tZCKRl8lNalo4qUueqm0NCht20s7Ay6QznQzH8XoTTGzUZ3ulDIam+hPGyNRmw7VMQ0V6lENI1SlLlUwVfMpQgS6zqcehm2Lumc0oVDE0FSVIV9dJVNsIZA5aMGqm4kiWj8zDl/0QiCIWCtnohhXuWZmH9sYyJbsehkhCoSMfLXMLgqS18AaNkvkqOthF8vYxjr2sZCNrGQnS9nKWvaymM2sZjfL2c569rOgTRoe8oCHeqakAylYgQpEEFqi4OGdA1HmR0jAAyX/MGEJTGCCEFSAgNb6JAL7VEg1PaKCJSQht8jFLQ8W4FueBHchvuRICpBLXeQqgQcDaG5OoruQbW6EAUaorniZgALt4uS5DBluRlQw3uomwQfmtYlpHQLbjAQBt+2lbgfiOxTvZiS8+aVuCfgbEy5AJBQcOUKAqWsCAgcllxkhwoKRy1oHvwTCCwFnRl5w3AUPobcWdgktG5LKjYBgwkpYQYhfogH/JkS2GaltfpVQBA6sGCYuRskCgGBb8SbBCBW+sUtKjJA/pPMjC4hBEnrMhOMGIQRClokO/hCITQQiD/MNCQdYAAQhCCEGQY6ymMdM5jKb+cxoTrOa18zmNrv5/81wjrOc50znOjenvJHBs533TDsa8vkpZvyzoAdN6ELX8SCGTrSiF83oRjv60ZCOtKQnTelKW/rSmM60ppsTVoV0etMRwSpE4AZqjEQ1pQmhaqkv0lSjrnpRrnYoql8tkaJKlda1BqlTcd0pi+6a171e1q+BHexYkFSmxGb1p9Q162RfhKXzcrZHYirtjdT01tUO6LWGne2LBo3b2Q5qrLtdEFs3m9wUizW4ed1qbFf71Mgut9Y+LW1RB1Sr6EYIvQuy73z7+98AD7jAB07wghv84EhRAMIbwgAVCEEgR+DBgLHiAV8QQSAXr3iUUWCEhAhhv1OBgUJEfuMUMIQIIP+HCg8YsvKb2kMgJglKEApdDF94wRfD8IUFLHPxhvT8pmeRyQI67pAdPEXPZyYBRH5uaG3IpMEPOUKiWWGTiTukCE8huUO0Hl8bP6QHT1EBRMTuYKODBbwOMQJzTcqKerRhIBSQidIbMoSFR10qDHj4QoTAgBuzQCFFmHtUOAAEhQDB6zcOAQykLpC6I34qJi9I5MfMgBAIfisdEIEIUm73znv+86APvehHT/rSm/70qE+96lfP+ta7/vWwj73sZ0/72tv+9rjPve53z/ve+/73wA++8IdP/OJTEJKoIngjK4f8ZB+Sj90eJPTJ/cfpo3uPy8/3HbNfwC6KZ47WT6DvF4Rog+80kfsBX6PoM8D+9mfA+AiMS7K9gvtVrL4LQrwB6XkI//77//8AOFTeBxYv5wsxZxtcBRYzhBZzMhaIxhHj5wvlhxU1d3M5t3Nf4WdaMVZldVZcoUP8JxU2UhA4chUjiBAHWBhB9xWBthVqBRZ+5VZd1Rvy9ypt9Va+oFhZsURrsVfV4XS4QVdc8YJjQSVkMYOAQXW4gVd69RVXVIRkURXnEoOAlRUD6AtfhBY+uIEcYX+/8YBXMVgEUVhYUYW+0IK5YRYfgX++oH9Y0XZvJxBxh0Jn4gtp4gtrghV1GBIh6CCJtRsNyINhERAAIfkEASwBxAAsOAA2ABACigGH//////7+/v7+/v79/f7+/f39/P39+/39/v78/v77/v75/v72/v30/Pz8+vr6+fn5+Pj49vr69/f3+Pb49vb29fT28/Pz8vLy9PH18fHx6vT08u3z/v3s/vzm/vvh/vvf/vve/vrW/vrR/vnQ/vnN/vjF/ve+/ve8/ve7/ve1/vWq/vSe8PDw/fKR/fKQ/fKJ/fGD/fB9/fB57u7u7Ors7Ont6ujq5+fn2u3s0Ojn/e9y/e5q/e1g/e1f/e1e/exY/etS/etN/elA/eg4/egy/egv/ecr/ecp/eco/ecn/ecm/ecl/+Li6+Xt5ubm5eXl5OTk4+Pj4uLi4eHh5t3o/8nJ/8XF39/f3t7e3d3d0uDf29vb2tra2dnZ19fX39Ti1dXV09PT0tLS0dHR0NDQ2Mvcz8/Pzc3NysrKycnJysfLxsbGxcXFwcHBy7nPybXNutzbuMzLv7+/u7u7t7e3tLS0sbGxr6+vqNTSmczKpLOzqqqqqKiog8G+fr67c7q2YbGtUqmlvKTCp6enpKSktZu8spe5sZW4oqKioKCgn5+fm5ubl5eXlJSUkpKSp4eujo6OjIyMiIiIh4eHhoaGhYWFg4ODf39/nXullnCfS6aiPp+bNJqWfX19LJaSJ5SPJJKNI5KNIpGMe3t7eXl5d3d3dnZ2dXV1cHBwb29vbm5ubGxsa2trIZGM/zIy/yIikWmakGiZjWWXi2KUaGhoZWVlZmBoX19fXl5eXV1dW1tbWlpaVlZWVVVVZlJqUFBQT09PTk5OTExMS0tLYkBqRkZGZzBzZC1xYSlvXiVsWiBoUhRhTAxbSglZRwZXRwVXRwVWRgVWRgRWRgNWRQNVRAJURAFUQ0NDPz8/Pj4+PDw8OTk5ODg4NjY2NDQ0MjIyMDAwLi4uLCwsKioqKCgoJSUlIiIiISEhICAgHx8fHh4eHBwcGxsbGhoaGRkZGBgYFhYWFRUVFBQUEhISEBAQDw8PDAwMCgoKCAgIBwcHBgYGBAQEAwMDAQEB/wAAAAAACP8A7xAbSHAPsTUEEypcyLChw4cQI0qcSLGixYsYM2rcyLGjx48gQ4ocSbKkwikmU6pcybKly5cwY8qcSbOmzZs4c+rcybOnz5i7fgodSrSo0aNIkypdyrSp06dQV/4iRiOq1atYs2rVOtXG1q9gw4od6xIl2bNo06pdy7at27dw48qdS7eu3bt48+rdy7ev37+AAwseTLiw4cOIEytezLix48eQI0ueTLmy5cuYM2vezLmz58+gQ4seTbq06dOoU6tezbq169ewY8ueTbu27du4c+vezbu379/AgwsfTry48ePIkytfzry58+fQo0ufTr269evYs2vfzr279+/gw4v/H0++vPnz6NOrX8++vfv38OPLn0+/vv37+PPr38+/v///AAYo4IAEFmhgXIIcQkwZBzY4UhmzKGSMgxSmFGGFGFYkCEQXZujhh8sJFNiEIJZIEIkRUWHiiiwix0uLMDb04lnKTMRgjBhmIlGNOGKoYo+6mfVWhw0tswGQs3WxFooM3dgRABZBiSR4RJ74xUcAZElRllJO6V0NxExojCxOPslllw+diaaX/akJkZtsBggnQ3PGOV4AFuHpUJ0E8WkneFW4wgRFTLhSRZpnKuTnn94F4Io/rwwaEROv+OOKng3NuSij3lEKqaQOeRppRG5uymmnlY7akKigvqkml6ee/8cqQ7Nu+Wqs6NVKkK62woprrqmCyutEr67563izDitRsVoea56oVgR7UamJOluep/58Om21xJhqLXdWZOuPFdv62ie3336Hrba9Nqsouumadkgss+h4E7TSLgtvQt5iNG+98TKmjIIzJZsvouZmui9IAwesmCwy6aosvwsv1C9HEDvM1zEQYQLTsBOfa+ye7mrE8UMea3wYmC1NHPJAI6fZEssq23VyTi+/LNPNNQd2pU46ExO0Sz/3bJuj7ELk6aVGqxdoq0ob2nRtReeE6URX21T11H7xnJjXXCdGs2Jjh+0W2Aql/BfaCalttl4ZLxb323jxuJjddNsF8GJ75//t99+ABy744IQXbvjhiCeu+OKMN+7445BHLvnklFdu+eWYZ6755qF1wvl2Bn0+XS0ETSW6dEqePl0pqrfu+usHMgL7dCLObvvtuOeu++689+7778AHL/zwxBdv/PHIJ6/88sw37/zz0EcvvWE4EMPJQNdXP/32hwPCvWt5RBT+96BdD5H55HcGx0Trp+/++/DHL//3nkRU//z4x6vJQq0QtD+p+WNMIBLSilaEghgDJFXJAngYOAywgK0IRPtclTAGJiYHGqigxSpmQcOY6mIdHMyiQBhCEcKLhCU0oblQmEIVaomFLXQhDGMowwXSEDIzvKFgiqXDyDArZj30YKL/chhEvMwpABxMSNaKWJc5BapbGlRIoQ7FRLsc8VGvgKINd1UpplVxLnwSlRZHNrQvnmVRYoRXGc04FlOl0VxrZGMbt5iQN3IxacaDwmeAWMeDxZF3t2iNwfBoPNa9Bl+ERF4vDlmpbKmKeaQghuxaE65skUuOiVnXI5VHuoFMMjWI3OTxguKaQYoSk36R2MFQ2ReQrZKVeXHZK2FZl5zNkpZxCdofcSkWpJ2SVl1cIi/b8jRCSW2YcxHmQ5SJzGY685nQjKY0p0nNalrzmtjMpjabMr5tyuV/BPGeN9siznHKpZwNwYM5zzJBh9xvnWJBJzz5As55aqWdD3mnPbOC/8995gV9/sQKQFcCg4DmpJsP0Z5BBbpQtuhTIQlsaFZwUE+JokUTmwgEQi3K0Y569KMgDalIR0rSkpr0pChNqUpXytKWuvSlMI2pTGdK05ra9KY4zalOd8rTnhqPmQ0Bqk83UsyJTHGoIvEl1FYVTKSGRJe3dOpGbJlIqXZEllW16lVfuUutEsqPUfWqR0y5VLE+NVXRyqpZQaLJsq5VJJUc11tV0ta5esRYoZQUH+1KMjSRNYp87WuzVPkpwAaWTmdyZWEPWxEuKQsAXQ0sZGfp2LAydiGsWpOaIvtWpa6wWksT6mWJ8TRqJeyoo42Inn64ENGm9l1EfC1s6Sjbxv/eqrYZYS1uozTEJO52tl2KLWP5JFy+jtC3tf0gclPbr+J6FYTO1aphN7jX11ZXUb/Nrna3y93ueve74A2veMdL3t/EoCHnLa96hzmMmhTUqV5ZL2feGxH6yreFtJhMeiOy3/v6V4f5bUNl7NsQAv/3wB3tL4IXzOAGO/jBEI6whCdM4Qpb+MIYzrCGN8zhDnv4wyAOsYhHTOISm/jEKE6xilfM4ha7+MUwjrGMZ0zjGtv4xjjOsY537BHSxZfHQA4yE4Uk5CJDk3Q3aHAajMzkJjv5yQzWI1g8lx0ff6W9tAmkWEJ3ldp9xcsDMQhC/vJj2BgSLJ0khumC9KdFgiU6dR2N5Cexcma1zOgrpNxLfl935+Clec4GmkpV7JTnrwDaNl0JCZKxEuAKgRkrRN5KpEWyZGjCOSwBAQA7\" />"
      ],
      "text/plain": [
       "<IPython.core.display.HTML object>"
      ]
     },
     "metadata": {},
     "output_type": "display_data"
    }
   ],
   "source": [
    "gif_path = 'kmeans_cluster.gif'\n",
    "with open(gif_path, \"rb\") as gif_file:\n",
    "    encoded_gif = base64.b64encode(gif_file.read()).decode('utf-8')\n",
    "\n",
    "# Hiển thị GIF nhúng\n",
    "html_code = f'<img src=\"data:image/gif;base64,{encoded_gif}\" />'\n",
    "display(HTML(html_code))"
   ]
  },
  {
   "cell_type": "code",
   "execution_count": 48,
   "id": "6fbd0be7",
   "metadata": {},
   "outputs": [
    {
     "name": "stdout",
     "output_type": "stream",
     "text": [
      "Cluster Reports:\n",
      "Cluster 0:\n",
      "  Diameter: 3.000\n",
      "  Radius: 1.500\n",
      "\n",
      "Cluster 1:\n",
      "  Diameter: 5.000\n",
      "  Radius: 2.704\n",
      "\n",
      "Cluster 2:\n",
      "  Diameter: 3.162\n",
      "  Radius: 1.820\n",
      "\n"
     ]
    }
   ],
   "source": [
    "def calculate_cluster_reports(points, clusters, centroids):\n",
    "    report = {}\n",
    "    \n",
    "    for cluster_id in range(len(centroids)):\n",
    "        cluster_points = points[clusters == cluster_id]\n",
    "        \n",
    "        if len(cluster_points) == 0:\n",
    "            report[cluster_id] = {'diameter': 0, 'radius': 0}\n",
    "            continue\n",
    "        \n",
    "        # Tính diameter\n",
    "        max_distance = 0\n",
    "        for i in range(len(cluster_points)):\n",
    "            for j in range(i + 1, len(cluster_points)):\n",
    "                distance = np.sqrt(np.sum((cluster_points[i] - cluster_points[j]) ** 2))\n",
    "                max_distance = max(max_distance, distance)\n",
    "        \n",
    "        # Tính bán kính radius\n",
    "        centroid = centroids[cluster_id]\n",
    "        max_radius = 0\n",
    "        for point in cluster_points:\n",
    "            distance = np.sqrt(np.sum((point - centroid) ** 2))\n",
    "            max_radius = max(max_radius, distance)\n",
    "        \n",
    "        report[cluster_id] = {'diameter': max_distance, 'radius': max_radius}\n",
    "    \n",
    "    return report\n",
    "\n",
    "cluster_report = calculate_cluster_reports(point_list, clusters, centroids)\n",
    "\n",
    "print(\"Cluster Reports:\")\n",
    "for cluster_id, report in cluster_report.items():\n",
    "    print(f\"Cluster {cluster_id}:\")\n",
    "    print(f\"  Diameter: {report['diameter']:.3f}\")\n",
    "    print(f\"  Radius: {report['radius']:.3f}\")\n",
    "    print()"
   ]
  }
 ],
 "metadata": {
  "kernelspec": {
   "display_name": "Python 3",
   "language": "python",
   "name": "python3"
  },
  "language_info": {
   "codemirror_mode": {
    "name": "ipython",
    "version": 3
   },
   "file_extension": ".py",
   "mimetype": "text/x-python",
   "name": "python",
   "nbconvert_exporter": "python",
   "pygments_lexer": "ipython3",
   "version": "3.10.11"
  }
 },
 "nbformat": 4,
 "nbformat_minor": 5
}
